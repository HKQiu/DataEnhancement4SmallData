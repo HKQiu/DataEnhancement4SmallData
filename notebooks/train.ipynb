{
 "cells": [
  {
   "cell_type": "code",
   "execution_count": 4,
   "metadata": {},
   "outputs": [],
   "source": [
    "import glob,os\n",
    "import pandas as pd\n",
    "import deepchem as dc\n",
    "import numpy as np\n",
    "from rdkit import Chem\n",
    "from rdkit.Chem import AllChem\n",
    "from rdkit.Chem import Draw, PyMol, rdFMCS\n",
    "from rdkit.Chem.Draw import IPythonConsole\n",
    "from rdkit import rdBase\n",
    "from deepchem import metrics\n",
    "from IPython.display import Image, display\n",
    "from rdkit.Chem.Draw import SimilarityMaps\n",
    "import tensorflow as tf\n",
    "\n",
    "import warnings\n",
    "warnings.filterwarnings(\"ignore\")"
   ]
  },
  {
   "cell_type": "code",
   "execution_count": 5,
   "metadata": {},
   "outputs": [
    {
     "name": "stdout",
     "output_type": "stream",
     "text": [
      "\n",
      "Load data successfully！\n",
      "\n"
     ]
    }
   ],
   "source": [
    "DATASET_FILE ='aug-dataset.csv'\n",
    "MODEL_DIR = 'temp_model'\n",
    "########################################Featurizerization#########################\n",
    "featurizer = dc.feat.ConvMolFeaturizer()\n",
    "loader = dc.data.CSVLoader(tasks=[\"Tg\"], feature_field=\"Smiles\", featurizer=featurizer)\n",
    "dataset = loader.create_dataset(DATASET_FILE, shard_size=10000)\n",
    "print(\"\\nLoad data successfully！\\n\")\n",
    "splitter = dc.splits.splitters.RandomSplitter()\n",
    "trainset, testset = splitter.train_test_split(dataset, frac_train=0.8, seed=1)\n"
   ]
  },
  {
   "cell_type": "code",
   "execution_count": 7,
   "metadata": {},
   "outputs": [
    {
     "name": "stdout",
     "output_type": "stream",
     "text": [
      "Executing: 1/5\n",
      "############################################################\n",
      "Executing: 2/5\n",
      "############################################################\n",
      "Executing: 3/5\n",
      "############################################################\n",
      "Executing: 4/5\n",
      "############################################################\n",
      "Executing: 5/5\n",
      "############################################################\n",
      "Time cost for GNN on polymer dataset: 36.084 min\n",
      "Train_R2: 1.00 (+/- 0.00)\n",
      "Train_RMSE: 9.06 (+/- 0.27)\n",
      "Train_MAE: 5.07 (+/- 0.10)\n",
      "Test_R2: 0.92 (+/- 0.00)  # This was done on another device in terms of reproducibility test, and the 3% error across devices proves the reproducibility and validity of the model\n",
      "Test_RMSE: 36.65 (+/- 0.58)\n",
      "Test_MAE: 23.65 (+/- 0.89)\n"
     ]
    }
   ],
   "source": [
    "###########################################Two Conv.##########################################\n",
    "\"\"\"\n",
    "graph_conv_layers: [64,64]\n",
    "dense_layer_size: 128\n",
    "batch_size: 20\n",
    "dropout: 0.2\n",
    "nb_epoch: 1500\n",
    "\"\"\" \n",
    "\n",
    "import time\n",
    "\n",
    "start = time.time()\n",
    "\n",
    "metrics_rmse_train = []\n",
    "metrics_mae_train = []\n",
    "metrics_r2_train = []\n",
    "metrics_rmse_test = []\n",
    "metrics_mae_test = []\n",
    "metrics_r2_test = []\n",
    "\n",
    "for i in range(5):   # five loops\n",
    "    print(\"Executing: %d/5\" %(i+1))\n",
    "    print(\"#\"*60)\n",
    "    MODEL_DIR = 'temp_model'\n",
    "    \n",
    "    if not os.path.exists(MODEL_DIR + '/2 layers/' + 'loop' + str(i+1)):\n",
    "        os.makedirs(MODEL_DIR + '/2 layers/' + 'loop' + str(i+1))\n",
    "    MODEL_DIR = MODEL_DIR + '/2 layers/' + 'loop' + str(i+1)\n",
    "\n",
    "    ########################################Model######################################\n",
    "    model = dc.models.GraphConvModel(1, \n",
    "              graph_conv_layers=[64,64],\n",
    "#               dense_layer_size =128,\n",
    "              mode=\"regression\",\n",
    "              batch_normalize=False,\n",
    "              batch_size=20,\n",
    "              model_dir=MODEL_DIR,\n",
    "              dropout=0.1)\n",
    "\n",
    "    ########################################Fit########################################\n",
    "    model.fit(trainset, nb_epoch=1000)\n",
    "\n",
    "    ########################################Predict####################################\n",
    "    test_pred = model.predict(testset)\n",
    "    train_pred = model.predict(trainset)\n",
    "\n",
    "    ########################################Metrics####################################\n",
    "    rmse = metrics.mean_squared_error(y_true=trainset.y, y_pred=train_pred, squared=False)   # RMSE\n",
    "    r2 = metrics.r2_score(y_true=trainset.y, y_pred=train_pred)\n",
    "    mae = metrics.mean_absolute_error(y_true=trainset.y, y_pred=train_pred)\n",
    "\n",
    "    rmse_test = metrics.mean_squared_error(y_true=testset.y, y_pred=test_pred, squared=False)   # RMSE\n",
    "    r2_test = metrics.r2_score(y_true=testset.y, y_pred=test_pred)\n",
    "    mae_test = metrics.mean_absolute_error(y_true=testset.y, y_pred=test_pred)\n",
    "\n",
    "    metrics_r2_train.append(r2)\n",
    "    metrics_rmse_train.append(rmse)\n",
    "    metrics_mae_train.append(mae)\n",
    "    metrics_r2_test.append(r2_test)\n",
    "    metrics_rmse_test.append(rmse_test)\n",
    "    metrics_mae_test.append(mae_test)\n",
    "\n",
    "end = time.time()\n",
    "\n",
    "print(\"Time cost for GNN on polymer dataset: %.3f min\" % ((end-start)/60))\n",
    "\n",
    "print(\"Train_R2: %.2f (+/- %.2f)\" % (np.mean(metrics_r2_train), np.std(metrics_r2_train)))\n",
    "print(\"Train_RMSE: %.2f (+/- %.2f)\" % (np.mean(metrics_rmse_train), np.std(metrics_rmse_train)))\n",
    "print(\"Train_MAE: %.2f (+/- %.2f)\" % (np.mean(metrics_mae_train), np.std(metrics_mae_train)))\n",
    "\n",
    "print(\"Test_R2: %.2f (+/- %.2f)\" % (np.mean(metrics_r2_test), np.std(metrics_r2_test)))\n",
    "print(\"Test_RMSE: %.2f (+/- %.2f)\" % (np.mean(metrics_rmse_test), np.std(metrics_rmse_test)))\n",
    "print(\"Test_MAE: %.2f (+/- %.2f)\" % (np.mean(metrics_mae_test), np.std(metrics_mae_test)))"
   ]
  },
  {
   "cell_type": "code",
   "execution_count": null,
   "metadata": {},
   "outputs": [],
   "source": []
  }
 ],
 "metadata": {
  "kernelspec": {
   "display_name": "Python 3",
   "language": "python",
   "name": "python3"
  },
  "language_info": {
   "codemirror_mode": {
    "name": "ipython",
    "version": 3
   },
   "file_extension": ".py",
   "mimetype": "text/x-python",
   "name": "python",
   "nbconvert_exporter": "python",
   "pygments_lexer": "ipython3",
   "version": "3.7.6"
  },
  "toc": {
   "base_numbering": 1,
   "nav_menu": {},
   "number_sections": true,
   "sideBar": true,
   "skip_h1_title": false,
   "title_cell": "Table of Contents",
   "title_sidebar": "Contents",
   "toc_cell": false,
   "toc_position": {},
   "toc_section_display": true,
   "toc_window_display": false
  }
 },
 "nbformat": 4,
 "nbformat_minor": 4
}
