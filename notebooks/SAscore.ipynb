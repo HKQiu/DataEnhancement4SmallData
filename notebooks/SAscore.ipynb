{
 "cells": [
  {
   "cell_type": "code",
   "execution_count": 1,
   "metadata": {},
   "outputs": [],
   "source": [
    "import math\n",
    "import pickle\n",
    "from rdkit import Chem\n",
    "from rdkit.Chem import rdMolDescriptors\n",
    "import os\n",
    "import os.path as op\n",
    "import pandas as pd "
   ]
  },
  {
   "cell_type": "code",
   "execution_count": null,
   "metadata": {},
   "outputs": [],
   "source": [
    "\n",
    " \n",
    "#get_sa_score start\n",
    "_fscores = None\n",
    " \n",
    "def readFragmentScores(name='fpscores'):\n",
    "    import gzip\n",
    "    global _fscores\n",
    "    # generate the full path filename:\n",
    "    if name == \"fpscores\":\n",
    "        name = op.join(os.getcwd(), name)\n",
    "        # name = op.join(op.dirname(__file__), name)\n",
    "    data = pickle.load(gzip.open('%s.pkl.gz' % name))\n",
    "    outDict = {}\n",
    "    for i in data:\n",
    "        for j in range(1, len(i)):\n",
    "            outDict[i[j]] = float(i[0])\n",
    "    _fscores = outDict\n",
    "def numBridgeheadsAndSpiro(mol, ri=None):\n",
    "    nSpiro = rdMolDescriptors.CalcNumSpiroAtoms(mol)\n",
    "    nBridgehead = rdMolDescriptors.CalcNumBridgeheadAtoms(mol)\n",
    "    return nBridgehead, nSpiro\n",
    "def calculateScore(m):\n",
    "    if _fscores is None:\n",
    "        readFragmentScores()\n",
    "    # fragment score\n",
    "    fp = rdMolDescriptors.GetMorganFingerprint(m,\n",
    "                                            2)  # <- 2 is the *radius* of the circular fingerprint\n",
    "    fps = fp.GetNonzeroElements()\n",
    "    score1 = 0.\n",
    "    nf = 0\n",
    "    for bitId, v in fps.items():\n",
    "        nf += v\n",
    "        sfp = bitId\n",
    "        score1 += _fscores.get(sfp, -4) * v\n",
    "    score1 /= nf\n",
    "    \n",
    "    # features score\n",
    "    nAtoms = m.GetNumAtoms()\n",
    "    nChiralCenters = len(Chem.FindMolChiralCenters(m, includeUnassigned=True))\n",
    "    ri = m.GetRingInfo()\n",
    "    nBridgeheads, nSpiro = numBridgeheadsAndSpiro(m, ri)\n",
    "    nMacrocycles = 0\n",
    "    for x in ri.AtomRings():\n",
    "        if len(x) > 8:\n",
    "            nMacrocycles += 1\n",
    "            \n",
    "    sizePenalty = nAtoms**1.005 - nAtoms\n",
    "    stereoPenalty = math.log10(nChiralCenters + 1)\n",
    "    spiroPenalty = math.log10(nSpiro + 1)\n",
    "    bridgePenalty = math.log10(nBridgeheads + 1)\n",
    "    macrocyclePenalty = 0.\n",
    "    # ---------------------------------------\n",
    "    # This differs from the paper, which defines:\n",
    "    # macrocyclePenalty = math.log10(nMacrocycles+1)\n",
    "    # This form generates better results when 2 or more macrocycles are present\n",
    "    if nMacrocycles > 0:\n",
    "        macrocyclePenalty = math.log10(2)\n",
    "        \n",
    "    score2 = 0. - sizePenalty - stereoPenalty - spiroPenalty - bridgePenalty - macrocyclePenalty\n",
    "    \n",
    "    # correction for the fingerprint density\n",
    "    # not in the original publication, added in version 1.1\n",
    "    # to make highly symmetrical molecules easier to synthetise\n",
    "    score3 = 0.\n",
    "    if nAtoms > len(fps):\n",
    "        score3 = math.log(float(nAtoms) / len(fps)) * .5\n",
    "        \n",
    "    sascore = score1 + score2 + score3\n",
    "    \n",
    "    # need to transform \"raw\" value into scale between 1 and 10\n",
    "    min = -4.0\n",
    "    max = 2.5\n",
    "    sascore = 11. - (sascore - min + 1) / (max - min) * 9.\n",
    "    # smooth the 10-end\n",
    "    if sascore > 8.:\n",
    "        sascore = 8. + math.log(sascore + 1. - 9.)\n",
    "    if sascore > 10.:\n",
    "        sascore = 10.0\n",
    "    elif sascore < 1.:\n",
    "        sascore = 1.0\n",
    "        \n",
    "    return sascore\n",
    "def my_score(mols:list):\n",
    "    readFragmentScores(\"fpscores\")\n",
    "    import time\n",
    "    start = time.time()\n",
    "    print(\"Starting caclucating...\")\n",
    "#     print('smiles\\tsa_score')\n",
    "    res = []\n",
    "    for m in mols:\n",
    "        s = calculateScore(m)\n",
    "        smiles = Chem.MolToSmiles(m)\n",
    "#         print(smiles + \"\\t\" + \"\\t%3f\" % s)\n",
    "        res.append((smiles,s))\n",
    "    \n",
    "    df = pd.DataFrame(res)\n",
    "    df.columns = ['Smiles', 'SA_Score']\n",
    "    print(\"Successfully Done!\")\n",
    "    end = time.time()\n",
    "    running_time = end - start\n",
    "    print(\"time cost: %.5f min\" % (running_time/60))\n",
    "    return df\n",
    "    \n",
    "if __name__ == \"__main__\":\n",
    "#     a = Chem.MolFromSmiles('CN(C)CCC=C1C2=CC=CC=C2CCC2=CC=CC=C12')\n",
    "#     b = Chem.MolFromSmiles('[H][C@@]12CC3=CNC4=CC=CC(=C34)[C@@]1([H])C[C@H](CN2CC=C)C(=O)N(CCCN(C)C)C(=O)NCC')\n",
    "#     c = Chem.MolFromSmiles('CCOC1=NC(NC(=O)CC2=CC(OC)=C(Br)C=C2OC)=CC(N)=C1C#N')\n",
    "#     d = Chem.MolFromSmiles('OC(=O)C1=CC=CC=C1O')\n",
    "#     x = [a,b,c,d]\n",
    "#     res = my_score(x)  # 返回smiles与对应的SA_score的DataFrame\n",
    "    file = pd.read_csv('新模型预测结果-350.csv')\n",
    "    file.head()\n",
    "    smiles_list = file['Smiles'].tolist()\n",
    "    mols = []\n",
    "    for smile in smiles_list:\n",
    "        try:\n",
    "            mol = Chem.MolFromSmiles(smile)\n",
    "        except BaseException:  # 发现解析错误，就跳过\n",
    "            pass\n",
    "        mols.append(mol)\n",
    "    res = my_score(mols)\n",
    "    print(res.head())\n",
    "    res.to_csv('1-350-SAscore.csv') "
   ]
  },
  {
   "cell_type": "code",
   "execution_count": 4,
   "metadata": {},
   "outputs": [
    {
     "data": {
      "text/plain": [
       "(324950, 4)"
      ]
     },
     "execution_count": 4,
     "metadata": {},
     "output_type": "execute_result"
    }
   ],
   "source": [
    "file = pd.read_csv('新模型预测结果-350.csv')\n",
    "\n",
    "df = pd.concat([file,res['SA_Score']],axis=1)\n",
    "df.shape"
   ]
  },
  {
   "cell_type": "code",
   "execution_count": 5,
   "metadata": {},
   "outputs": [
    {
     "data": {
      "text/html": [
       "<div>\n",
       "<style scoped>\n",
       "    .dataframe tbody tr th:only-of-type {\n",
       "        vertical-align: middle;\n",
       "    }\n",
       "\n",
       "    .dataframe tbody tr th {\n",
       "        vertical-align: top;\n",
       "    }\n",
       "\n",
       "    .dataframe thead th {\n",
       "        text-align: right;\n",
       "    }\n",
       "</style>\n",
       "<table border=\"1\" class=\"dataframe\">\n",
       "  <thead>\n",
       "    <tr style=\"text-align: right;\">\n",
       "      <th></th>\n",
       "      <th>Unnamed: 0</th>\n",
       "      <th>Smiles</th>\n",
       "      <th>pred_new</th>\n",
       "      <th>SA_Score</th>\n",
       "    </tr>\n",
       "  </thead>\n",
       "  <tbody>\n",
       "    <tr>\n",
       "      <th>0</th>\n",
       "      <td>1</td>\n",
       "      <td>*c1cccc(N2C(=O)c3ccc4c5c(ccc(c35)C2=O)C(=O)N(*...</td>\n",
       "      <td>367.41678</td>\n",
       "      <td>3.419736</td>\n",
       "    </tr>\n",
       "    <tr>\n",
       "      <th>1</th>\n",
       "      <td>2</td>\n",
       "      <td>*c1cccc(N2C(=O)c3ccc(C(=O)c4ccc5c(c4)C(=O)N(*)...</td>\n",
       "      <td>350.72488</td>\n",
       "      <td>3.270827</td>\n",
       "    </tr>\n",
       "    <tr>\n",
       "      <th>2</th>\n",
       "      <td>3</td>\n",
       "      <td>*c1cccc(N2C(=O)c3ccc4c5ccc6c7c(ccc(c8ccc(c3c48...</td>\n",
       "      <td>365.61154</td>\n",
       "      <td>3.439890</td>\n",
       "    </tr>\n",
       "    <tr>\n",
       "      <th>3</th>\n",
       "      <td>6</td>\n",
       "      <td>*c1cccc(N2C(=O)c3cc(Cl)c4c5c(Cl)cc6c7c(cc(Cl)c...</td>\n",
       "      <td>370.96426</td>\n",
       "      <td>3.907398</td>\n",
       "    </tr>\n",
       "    <tr>\n",
       "      <th>4</th>\n",
       "      <td>15</td>\n",
       "      <td>*c1cccc(N2C(=O)[C@H]3[C@@H](C2=O)C2(NC(=O)c4cc...</td>\n",
       "      <td>384.54993</td>\n",
       "      <td>5.760158</td>\n",
       "    </tr>\n",
       "  </tbody>\n",
       "</table>\n",
       "</div>"
      ],
      "text/plain": [
       "   Unnamed: 0                                             Smiles   pred_new  \\\n",
       "0           1  *c1cccc(N2C(=O)c3ccc4c5c(ccc(c35)C2=O)C(=O)N(*...  367.41678   \n",
       "1           2  *c1cccc(N2C(=O)c3ccc(C(=O)c4ccc5c(c4)C(=O)N(*)...  350.72488   \n",
       "2           3  *c1cccc(N2C(=O)c3ccc4c5ccc6c7c(ccc(c8ccc(c3c48...  365.61154   \n",
       "3           6  *c1cccc(N2C(=O)c3cc(Cl)c4c5c(Cl)cc6c7c(cc(Cl)c...  370.96426   \n",
       "4          15  *c1cccc(N2C(=O)[C@H]3[C@@H](C2=O)C2(NC(=O)c4cc...  384.54993   \n",
       "\n",
       "   SA_Score  \n",
       "0  3.419736  \n",
       "1  3.270827  \n",
       "2  3.439890  \n",
       "3  3.907398  \n",
       "4  5.760158  "
      ]
     },
     "execution_count": 5,
     "metadata": {},
     "output_type": "execute_result"
    }
   ],
   "source": [
    "df.head()"
   ]
  },
  {
   "cell_type": "code",
   "execution_count": 7,
   "metadata": {},
   "outputs": [
    {
     "data": {
      "text/html": [
       "<div>\n",
       "<style scoped>\n",
       "    .dataframe tbody tr th:only-of-type {\n",
       "        vertical-align: middle;\n",
       "    }\n",
       "\n",
       "    .dataframe tbody tr th {\n",
       "        vertical-align: top;\n",
       "    }\n",
       "\n",
       "    .dataframe thead th {\n",
       "        text-align: right;\n",
       "    }\n",
       "</style>\n",
       "<table border=\"1\" class=\"dataframe\">\n",
       "  <thead>\n",
       "    <tr style=\"text-align: right;\">\n",
       "      <th></th>\n",
       "      <th>Smiles</th>\n",
       "      <th>pred_new</th>\n",
       "      <th>SA_Score</th>\n",
       "    </tr>\n",
       "  </thead>\n",
       "  <tbody>\n",
       "    <tr>\n",
       "      <th>0</th>\n",
       "      <td>*c1cccc(N2C(=O)c3ccc4c5c(ccc(c35)C2=O)C(=O)N(*...</td>\n",
       "      <td>367.41678</td>\n",
       "      <td>3.419736</td>\n",
       "    </tr>\n",
       "    <tr>\n",
       "      <th>1</th>\n",
       "      <td>*c1cccc(N2C(=O)c3ccc(C(=O)c4ccc5c(c4)C(=O)N(*)...</td>\n",
       "      <td>350.72488</td>\n",
       "      <td>3.270827</td>\n",
       "    </tr>\n",
       "    <tr>\n",
       "      <th>2</th>\n",
       "      <td>*c1cccc(N2C(=O)c3ccc4c5ccc6c7c(ccc(c8ccc(c3c48...</td>\n",
       "      <td>365.61154</td>\n",
       "      <td>3.439890</td>\n",
       "    </tr>\n",
       "    <tr>\n",
       "      <th>3</th>\n",
       "      <td>*c1cccc(N2C(=O)c3cc(Cl)c4c5c(Cl)cc6c7c(cc(Cl)c...</td>\n",
       "      <td>370.96426</td>\n",
       "      <td>3.907398</td>\n",
       "    </tr>\n",
       "    <tr>\n",
       "      <th>4</th>\n",
       "      <td>*c1cccc(N2C(=O)[C@H]3[C@@H](C2=O)C2(NC(=O)c4cc...</td>\n",
       "      <td>384.54993</td>\n",
       "      <td>5.760158</td>\n",
       "    </tr>\n",
       "  </tbody>\n",
       "</table>\n",
       "</div>"
      ],
      "text/plain": [
       "                                              Smiles   pred_new  SA_Score\n",
       "0  *c1cccc(N2C(=O)c3ccc4c5c(ccc(c35)C2=O)C(=O)N(*...  367.41678  3.419736\n",
       "1  *c1cccc(N2C(=O)c3ccc(C(=O)c4ccc5c(c4)C(=O)N(*)...  350.72488  3.270827\n",
       "2  *c1cccc(N2C(=O)c3ccc4c5ccc6c7c(ccc(c8ccc(c3c48...  365.61154  3.439890\n",
       "3  *c1cccc(N2C(=O)c3cc(Cl)c4c5c(Cl)cc6c7c(cc(Cl)c...  370.96426  3.907398\n",
       "4  *c1cccc(N2C(=O)[C@H]3[C@@H](C2=O)C2(NC(=O)c4cc...  384.54993  5.760158"
      ]
     },
     "execution_count": 7,
     "metadata": {},
     "output_type": "execute_result"
    }
   ],
   "source": [
    "df = df[['Smiles','pred_new','SA_Score']]\n",
    "df.head()"
   ]
  },
  {
   "cell_type": "markdown",
   "metadata": {},
   "source": [
    "# 分布可视化"
   ]
  },
  {
   "cell_type": "code",
   "execution_count": 6,
   "metadata": {},
   "outputs": [
    {
     "data": {
      "image/png": "[encoded data removed]",
      "text/plain": [
       "<Figure size 576x360 with 1 Axes>"
      ]
     },
     "metadata": {},
     "output_type": "display_data"
    }
   ],
   "source": [
    "%matplotlib inline\n",
    "import numpy as np\n",
    "import matplotlib.pyplot as plt\n",
    "plt.rcParams['font.family'] = 'Times New Roman'\n",
    "import pandas as pd \n",
    "plt.style.use('seaborn-white')\n",
    "\n",
    "df = pd.read_csv(\"1-350-SAscore.csv\")\n",
    "data = df['SA_Score']\n",
    "#最基本的频次直方图命令\n",
    "plt.figure(figsize=(8,5))\n",
    "plt.hist(data,bins=20, histtype='stepfilled',\n",
    "         color='steelblue', edgecolor='none')\n",
    "plt.xlabel('SAscore',fontsize =20) \n",
    "plt.ylabel('Count',fontsize =20)\n",
    "plt.tick_params(labelsize=15) \n",
    "plt.tight_layout()\n",
    "plt.savefig('SAscore-distribution.jpg', dpi=1000)\n",
    "plt.show()"
   ]
  },
  {
   "cell_type": "code",
   "execution_count": 10,
   "metadata": {},
   "outputs": [
    {
     "data": {
      "text/html": [
       "<div>\n",
       "<style scoped>\n",
       "    .dataframe tbody tr th:only-of-type {\n",
       "        vertical-align: middle;\n",
       "    }\n",
       "\n",
       "    .dataframe tbody tr th {\n",
       "        vertical-align: top;\n",
       "    }\n",
       "\n",
       "    .dataframe thead th {\n",
       "        text-align: right;\n",
       "    }\n",
       "</style>\n",
       "<table border=\"1\" class=\"dataframe\">\n",
       "  <thead>\n",
       "    <tr style=\"text-align: right;\">\n",
       "      <th></th>\n",
       "      <th>pred_new</th>\n",
       "      <th>SA_Score</th>\n",
       "    </tr>\n",
       "  </thead>\n",
       "  <tbody>\n",
       "    <tr>\n",
       "      <th>count</th>\n",
       "      <td>324950.000000</td>\n",
       "      <td>324950.000000</td>\n",
       "    </tr>\n",
       "    <tr>\n",
       "      <th>mean</th>\n",
       "      <td>377.678630</td>\n",
       "      <td>5.034633</td>\n",
       "    </tr>\n",
       "    <tr>\n",
       "      <th>std</th>\n",
       "      <td>25.655026</td>\n",
       "      <td>1.018024</td>\n",
       "    </tr>\n",
       "    <tr>\n",
       "      <th>min</th>\n",
       "      <td>350.000030</td>\n",
       "      <td>1.000000</td>\n",
       "    </tr>\n",
       "    <tr>\n",
       "      <th>25%</th>\n",
       "      <td>358.922452</td>\n",
       "      <td>4.144913</td>\n",
       "    </tr>\n",
       "    <tr>\n",
       "      <th>50%</th>\n",
       "      <td>371.017785</td>\n",
       "      <td>4.829843</td>\n",
       "    </tr>\n",
       "    <tr>\n",
       "      <th>75%</th>\n",
       "      <td>389.038705</td>\n",
       "      <td>6.008765</td>\n",
       "    </tr>\n",
       "    <tr>\n",
       "      <th>max</th>\n",
       "      <td>557.249270</td>\n",
       "      <td>9.323636</td>\n",
       "    </tr>\n",
       "  </tbody>\n",
       "</table>\n",
       "</div>"
      ],
      "text/plain": [
       "            pred_new       SA_Score\n",
       "count  324950.000000  324950.000000\n",
       "mean      377.678630       5.034633\n",
       "std        25.655026       1.018024\n",
       "min       350.000030       1.000000\n",
       "25%       358.922452       4.144913\n",
       "50%       371.017785       4.829843\n",
       "75%       389.038705       6.008765\n",
       "max       557.249270       9.323636"
      ]
     },
     "execution_count": 10,
     "metadata": {},
     "output_type": "execute_result"
    }
   ],
   "source": [
    "df.describe()"
   ]
  },
  {
   "cell_type": "code",
   "execution_count": 12,
   "metadata": {},
   "outputs": [
    {
     "data": {
      "text/plain": [
       "(6, 3)"
      ]
     },
     "execution_count": 12,
     "metadata": {},
     "output_type": "execute_result"
    }
   ],
   "source": [
    "df = df[df['SA_Score']<3]\n",
    "df.shape"
   ]
  },
  {
   "cell_type": "code",
   "execution_count": 24,
   "metadata": {},
   "outputs": [
    {
     "data": {
      "text/plain": [
       "(324950, 4)"
      ]
     },
     "execution_count": 24,
     "metadata": {},
     "output_type": "execute_result"
    }
   ],
   "source": [
    "df= pd.read_csv('预测筛选/1-350-SAscore.csv') \n",
    "df.shape"
   ]
  },
  {
   "cell_type": "code",
   "execution_count": 28,
   "metadata": {},
   "outputs": [
    {
     "data": {
      "text/plain": [
       "(89, 4)"
      ]
     },
     "execution_count": 28,
     "metadata": {},
     "output_type": "execute_result"
    }
   ],
   "source": [
    "df = df[df['SA_Score']<3.2]\n",
    "df.shape"
   ]
  },
  {
   "cell_type": "code",
   "execution_count": null,
   "metadata": {},
   "outputs": [],
   "source": []
  }
 ],
 "metadata": {
  "kernelspec": {
   "display_name": "Python 3",
   "language": "python",
   "name": "python3"
  },
  "language_info": {
   "codemirror_mode": {
    "name": "ipython",
    "version": 3
   },
   "file_extension": ".py",
   "mimetype": "text/x-python",
   "name": "python",
   "nbconvert_exporter": "python",
   "pygments_lexer": "ipython3",
   "version": "3.7.6"
  },
  "toc": {
   "base_numbering": 1,
   "nav_menu": {},
   "number_sections": true,
   "sideBar": true,
   "skip_h1_title": false,
   "title_cell": "Table of Contents",
   "title_sidebar": "Contents",
   "toc_cell": false,
   "toc_position": {},
   "toc_section_display": true,
   "toc_window_display": false
  }
 },
 "nbformat": 4,
 "nbformat_minor": 4
}
